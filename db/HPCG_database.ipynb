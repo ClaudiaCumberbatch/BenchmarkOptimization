{
 "cells": [
  {
   "cell_type": "code",
   "execution_count": 13,
   "metadata": {},
   "outputs": [],
   "source": [
    "import sqlite3\n",
    "import pandas as pd\n",
    "\n",
    "conn = sqlite3.connect('HPCG.db')"
   ]
  },
  {
   "cell_type": "code",
   "execution_count": 14,
   "metadata": {},
   "outputs": [],
   "source": [
    "def extract(filename, data):\n",
    "    with open(filename, 'r') as file:\n",
    "        lines = file.readlines()\n",
    "\n",
    "    NX = \"\"\n",
    "    NY = \"\"\n",
    "    NZ = \"\"\n",
    "    Time = \"\"\n",
    "    # Although the time has been set to 1860, it varies\n",
    "    Gflops = \"\"\n",
    "\n",
    "    idd_index = 10\n",
    "    # the line index of \"Processor Dimensions=\"\n",
    "    T_index = 89\n",
    "    # the line index of \"Benchmark Time Summary::Total=\" \n",
    "    Gflops_index = 117\n",
    "    # the line index of \"Final Summary=\"\n",
    "\n",
    "    NX = lines[idd_index + 1].split(\"=\")[1]\n",
    "    NY = lines[idd_index + 2].split(\"=\")[1]\n",
    "    NZ = lines[idd_index + 3].split(\"=\")[1]\n",
    "    Time = lines[T_index].split(\"=\")[1]\n",
    "    Gflops = lines[Gflops_index + 1].split(\"=\")[1]\n",
    "\n",
    "    data.append([NX, NY, NZ, Time, Gflops])\n",
    "    return data        "
   ]
  },
  {
   "cell_type": "code",
   "execution_count": 15,
   "metadata": {},
   "outputs": [
    {
     "name": "stdout",
     "output_type": "stream",
     "text": [
      "HPCG-Benchmark_3.1_2023-11-11_15-55-20.txt\n",
      "['HPCG-Benchmark\\n', 'version=3.1\\n', 'Release date=March 28, 2019\\n', 'Machine Summary=\\n', 'Machine Summary::Distributed Processes=24\\n', 'Machine Summary::Threads per processes=1\\n', 'Global Problem Dimensions=\\n', 'Global Problem Dimensions::Global nx=208\\n', 'Global Problem Dimensions::Global ny=416\\n', 'Global Problem Dimensions::Global nz=312\\n', 'Processor Dimensions=\\n', 'Processor Dimensions::npx=2\\n', 'Processor Dimensions::npy=4\\n', 'Processor Dimensions::npz=3\\n', 'Local Domain Dimensions=\\n', 'Local Domain Dimensions::nx=104\\n', 'Local Domain Dimensions::ny=104\\n', 'Local Domain Dimensions::Lower ipz=0\\n', 'Local Domain Dimensions::Upper ipz=2\\n', 'Local Domain Dimensions::nz=104\\n', '########## Problem Summary  ##########=\\n', 'Setup Information=\\n', 'Setup Information::Setup Time=21.775\\n', 'Linear System Information=\\n', 'Linear System Information::Number of Equations=26996736\\n', 'Linear System Information::Number of Nonzero Terms=723861208\\n', 'Multigrid Information=\\n', 'Multigrid Information::Number of coarse grid levels=3\\n', 'Multigrid Information::Coarse Grids=\\n', 'Multigrid Information::Coarse Grids::Grid Level=1\\n', 'Multigrid Information::Coarse Grids::Number of Equations=3374592\\n', 'Multigrid Information::Coarse Grids::Number of Nonzero Terms=89854120\\n', 'Multigrid Information::Coarse Grids::Number of Presmoother Steps=1\\n', 'Multigrid Information::Coarse Grids::Number of Postsmoother Steps=1\\n', 'Multigrid Information::Coarse Grids::Grid Level=2\\n', 'Multigrid Information::Coarse Grids::Number of Equations=421824\\n', 'Multigrid Information::Coarse Grids::Number of Nonzero Terms=11075680\\n', 'Multigrid Information::Coarse Grids::Number of Presmoother Steps=1\\n', 'Multigrid Information::Coarse Grids::Number of Postsmoother Steps=1\\n', 'Multigrid Information::Coarse Grids::Grid Level=3\\n', 'Multigrid Information::Coarse Grids::Number of Equations=52728\\n', 'Multigrid Information::Coarse Grids::Number of Nonzero Terms=1345960\\n', 'Multigrid Information::Coarse Grids::Number of Presmoother Steps=1\\n', 'Multigrid Information::Coarse Grids::Number of Postsmoother Steps=1\\n', '########## Memory Use Summary  ##########=\\n', 'Memory Use Information=\\n', 'Memory Use Information::Total memory used for data (Gbytes)=19.3112\\n', 'Memory Use Information::Memory used for OptimizeProblem data (Gbytes)=0\\n', 'Memory Use Information::Bytes per equation (Total memory / Number of Equations)=715.316\\n', 'Memory Use Information::Memory used for linear system and CG (Gbytes)=16.9935\\n', 'Memory Use Information::Coarse Grids=\\n', 'Memory Use Information::Coarse Grids::Grid Level=1\\n', 'Memory Use Information::Coarse Grids::Memory used=2.0314\\n', 'Memory Use Information::Coarse Grids::Grid Level=2\\n', 'Memory Use Information::Coarse Grids::Memory used=0.254351\\n', 'Memory Use Information::Coarse Grids::Grid Level=3\\n', 'Memory Use Information::Coarse Grids::Memory used=0.0319067\\n', '########## V&V Testing Summary  ##########=\\n', 'Spectral Convergence Tests=\\n', 'Spectral Convergence Tests::Result=PASSED\\n', 'Spectral Convergence Tests::Unpreconditioned=\\n', 'Spectral Convergence Tests::Unpreconditioned::Maximum iteration count=11\\n', 'Spectral Convergence Tests::Unpreconditioned::Expected iteration count=12\\n', 'Spectral Convergence Tests::Preconditioned=\\n', 'Spectral Convergence Tests::Preconditioned::Maximum iteration count=2\\n', 'Spectral Convergence Tests::Preconditioned::Expected iteration count=2\\n', \"Departure from Symmetry |x'Ay-y'Ax|/(2*||x||*||A||*||y||)/epsilon=\\n\", \"Departure from Symmetry |x'Ay-y'Ax|/(2*||x||*||A||*||y||)/epsilon::Result=PASSED\\n\", \"Departure from Symmetry |x'Ay-y'Ax|/(2*||x||*||A||*||y||)/epsilon::Departure for SpMV=1.13848e-09\\n\", \"Departure from Symmetry |x'Ay-y'Ax|/(2*||x||*||A||*||y||)/epsilon::Departure for MG=2.11432e-09\\n\", '########## Iterations Summary  ##########=\\n', 'Iteration Count Information=\\n', 'Iteration Count Information::Result=PASSED\\n', 'Iteration Count Information::Reference CG iterations per set=50\\n', 'Iteration Count Information::Optimized CG iterations per set=50\\n', 'Iteration Count Information::Total number of reference iterations=900\\n', 'Iteration Count Information::Total number of optimized iterations=900\\n', '########## Reproducibility Summary  ##########=\\n', 'Reproducibility Information=\\n', 'Reproducibility Information::Result=PASSED\\n', 'Reproducibility Information::Scaled residual mean=0.00250823\\n', 'Reproducibility Information::Scaled residual variance=0\\n', '########## Performance Summary (times in sec) ##########=\\n', 'Benchmark Time Summary=\\n', 'Benchmark Time Summary::Optimization phase=5.47152e-08\\n', 'Benchmark Time Summary::DDOT=153.568\\n', 'Benchmark Time Summary::WAXPBY=10.1753\\n', 'Benchmark Time Summary::SpMV=218.97\\n', 'Benchmark Time Summary::MG=1496.74\\n', 'Benchmark Time Summary::Total=1879.53\\n', 'Floating Point Operations Summary=\\n', 'Floating Point Operations Summary::Raw DDOT=1.46754e+11\\n', 'Floating Point Operations Summary::Raw WAXPBY=1.46754e+11\\n', 'Floating Point Operations Summary::Raw SpMV=1.32901e+12\\n', 'Floating Point Operations Summary::Raw MG=7.42796e+12\\n', 'Floating Point Operations Summary::Total=9.05048e+12\\n', 'Floating Point Operations Summary::Total with convergence overhead=9.05048e+12\\n', 'GB/s Summary=\\n', 'GB/s Summary::Raw Read B/W=29.6637\\n', 'GB/s Summary::Raw Write B/W=6.85511\\n', 'GB/s Summary::Raw Total B/W=36.5188\\n', 'GB/s Summary::Total with convergence and optimization phase overhead=35.7728\\n', 'GFLOP/s Summary=\\n', 'GFLOP/s Summary::Raw DDOT=0.95563\\n', 'GFLOP/s Summary::Raw WAXPBY=14.4227\\n', 'GFLOP/s Summary::Raw SpMV=6.06937\\n', 'GFLOP/s Summary::Raw MG=4.96278\\n', 'GFLOP/s Summary::Raw Total=4.8153\\n', 'GFLOP/s Summary::Total with convergence overhead=4.8153\\n', 'GFLOP/s Summary::Total with convergence and optimization phase overhead=4.71693\\n', 'User Optimization Overheads=\\n', 'User Optimization Overheads::Optimization phase time (sec)=5.47152e-08\\n', 'User Optimization Overheads::Optimization phase time vs reference SpMV+MG time=2.80554e-08\\n', 'DDOT Timing Variations=\\n', 'DDOT Timing Variations::Min DDOT MPI_Allreduce time=117.568\\n', 'DDOT Timing Variations::Max DDOT MPI_Allreduce time=162.325\\n', 'DDOT Timing Variations::Avg DDOT MPI_Allreduce time=142.862\\n', 'Final Summary=\\n', 'Final Summary::HPCG result is VALID with a GFLOP/s rating of=4.71693\\n', 'Final Summary::HPCG 2.4 rating for historical reasons is=4.8153\\n', 'Final Summary::Reference version of ComputeDotProduct used=Performance results are most likely suboptimal\\n', 'Final Summary::Reference version of ComputeSPMV used=Performance results are most likely suboptimal\\n', 'Final Summary::Reference version of ComputeMG used=Performance results are most likely suboptimal\\n', 'Final Summary::Reference version of ComputeWAXPBY used=Performance results are most likely suboptimal\\n', 'Final Summary::Please upload results from the YAML file contents to=http://hpcg-benchmark.org\\n']\n"
     ]
    },
    {
     "ename": "TypeError",
     "evalue": "list.append() takes exactly one argument (5 given)",
     "output_type": "error",
     "traceback": [
      "\u001b[0;31m---------------------------------------------------------------------------\u001b[0m",
      "\u001b[0;31mTypeError\u001b[0m                                 Traceback (most recent call last)",
      "Input \u001b[0;32mIn [15]\u001b[0m, in \u001b[0;36m<cell line: 11>\u001b[0;34m()\u001b[0m\n\u001b[1;32m     11\u001b[0m \u001b[38;5;28;01mfor\u001b[39;00m filename \u001b[38;5;129;01min\u001b[39;00m file_names:\n\u001b[1;32m     12\u001b[0m     \u001b[38;5;28mprint\u001b[39m(filename)\n\u001b[0;32m---> 13\u001b[0m     \u001b[43mextract\u001b[49m\u001b[43m(\u001b[49m\u001b[43mdirectory_path\u001b[49m\u001b[43m \u001b[49m\u001b[38;5;241;43m+\u001b[39;49m\u001b[43m \u001b[49m\u001b[43mfilename\u001b[49m\u001b[43m,\u001b[49m\u001b[43m \u001b[49m\u001b[43mdata\u001b[49m\u001b[43m)\u001b[49m\n\u001b[1;32m     15\u001b[0m \u001b[38;5;66;03m# conversion\u001b[39;00m\n\u001b[1;32m     16\u001b[0m data \u001b[38;5;241m=\u001b[39m [\n\u001b[1;32m     17\u001b[0m     [\u001b[38;5;28mint\u001b[39m(value) \u001b[38;5;28;01mif\u001b[39;00m index \u001b[38;5;129;01min\u001b[39;00m \u001b[38;5;28mrange\u001b[39m(\u001b[38;5;241m3\u001b[39m) \u001b[38;5;28;01melse\u001b[39;00m \u001b[38;5;28mfloat\u001b[39m(value) \u001b[38;5;28;01mif\u001b[39;00m index \u001b[38;5;241m==\u001b[39m \u001b[38;5;241m4\u001b[39m \u001b[38;5;28;01melse\u001b[39;00m value \u001b[38;5;28;01mfor\u001b[39;00m index, value \u001b[38;5;129;01min\u001b[39;00m \u001b[38;5;28menumerate\u001b[39m(row)]\n\u001b[1;32m     18\u001b[0m     \u001b[38;5;28;01mfor\u001b[39;00m row \u001b[38;5;129;01min\u001b[39;00m data\n\u001b[1;32m     19\u001b[0m ]\n",
      "Input \u001b[0;32mIn [14]\u001b[0m, in \u001b[0;36mextract\u001b[0;34m(filename, data)\u001b[0m\n\u001b[1;32m     24\u001b[0m Time \u001b[38;5;241m=\u001b[39m lines[T_index]\u001b[38;5;241m.\u001b[39msplit(\u001b[38;5;124m\"\u001b[39m\u001b[38;5;124m=\u001b[39m\u001b[38;5;124m\"\u001b[39m)[\u001b[38;5;241m1\u001b[39m]\n\u001b[1;32m     25\u001b[0m Gflops \u001b[38;5;241m=\u001b[39m lines[Gflops_index \u001b[38;5;241m+\u001b[39m \u001b[38;5;241m1\u001b[39m]\u001b[38;5;241m.\u001b[39msplit(\u001b[38;5;124m\"\u001b[39m\u001b[38;5;124m=\u001b[39m\u001b[38;5;124m\"\u001b[39m)[\u001b[38;5;241m1\u001b[39m]\n\u001b[0;32m---> 27\u001b[0m \u001b[43mdata\u001b[49m\u001b[38;5;241;43m.\u001b[39;49m\u001b[43mappend\u001b[49m\u001b[43m(\u001b[49m\u001b[43mNX\u001b[49m\u001b[43m,\u001b[49m\u001b[43m \u001b[49m\u001b[43mNY\u001b[49m\u001b[43m,\u001b[49m\u001b[43m \u001b[49m\u001b[43mNZ\u001b[49m\u001b[43m,\u001b[49m\u001b[43m \u001b[49m\u001b[43mTime\u001b[49m\u001b[43m,\u001b[49m\u001b[43m \u001b[49m\u001b[43mGflops\u001b[49m\u001b[43m)\u001b[49m\n\u001b[1;32m     28\u001b[0m \u001b[38;5;28;01mreturn\u001b[39;00m data\n",
      "\u001b[0;31mTypeError\u001b[0m: list.append() takes exactly one argument (5 given)"
     ]
    }
   ],
   "source": [
    "import os\n",
    "\n",
    "# check below before running this script\n",
    "directory_path = \"/home/lizz_lab/cse12111448/HPCG/hpcg/build/bin/\"  \n",
    "core_num = 24\n",
    "\n",
    "# /home/lizz_lab/cse12111448/HPCG/hpcg/build/bin/HPCG-Benchmark_3.1_2023-11-13_15-36-13.txt\n",
    "file_names = [file for file in os.listdir(directory_path) if file.startswith(\"HPCG-Benchmark\") and file.endswith(\".txt\")]\n",
    "data = []\n",
    "\n",
    "for filename in file_names:\n",
    "    print(filename)\n",
    "    extract(directory_path + filename, data)\n",
    "\n",
    "# conversion\n",
    "data = [\n",
    "    [int(value) if index in range(3) else float(value) if index == 4 else value for index, value in enumerate(row)]\n",
    "    for row in data\n",
    "]\n",
    "\n",
    "\n",
    "# 加核数\n",
    "data = [[core_num] + row for row in data]\n",
    "df = pd.DataFrame(data, columns=['cores', 'NX', 'NY', 'NZ', 'Time', 'Gflops'])\n",
    "df"
   ]
  },
  {
   "cell_type": "code",
   "execution_count": null,
   "metadata": {},
   "outputs": [],
   "source": [
    "# 存储到数据库\n",
    "df.to_sql('hpcg', conn, if_exists='replace', index=False)"
   ]
  },
  {
   "cell_type": "code",
   "execution_count": null,
   "metadata": {},
   "outputs": [],
   "source": [
    "cursor = conn.cursor()\n",
    "cursor.execute(\"SELECT * FROM hpcg ORDER BY Gflops DESC LIMIT 1\")\n",
    "\n",
    "results = cursor.fetchall()\n",
    "results"
   ]
  },
  {
   "cell_type": "code",
   "execution_count": null,
   "metadata": {},
   "outputs": [],
   "source": [
    "# 关闭游标和连接\n",
    "cursor.close()\n",
    "\n",
    "# 关闭数据库连接\n",
    "conn.close()"
   ]
  },
  {
   "cell_type": "code",
   "execution_count": null,
   "metadata": {},
   "outputs": [],
   "source": []
  },
  {
   "cell_type": "code",
   "execution_count": null,
   "metadata": {},
   "outputs": [],
   "source": []
  },
  {
   "cell_type": "code",
   "execution_count": null,
   "metadata": {},
   "outputs": [],
   "source": []
  },
  {
   "cell_type": "code",
   "execution_count": null,
   "metadata": {},
   "outputs": [],
   "source": []
  }
 ],
 "metadata": {
  "kernelspec": {
   "display_name": "Python 3 (ipykernel)",
   "language": "python",
   "name": "python3"
  },
  "language_info": {
   "codemirror_mode": {
    "name": "ipython",
    "version": 3
   },
   "file_extension": ".py",
   "mimetype": "text/x-python",
   "name": "python",
   "nbconvert_exporter": "python",
   "pygments_lexer": "ipython3",
   "version": "3.9.12"
  }
 },
 "nbformat": 4,
 "nbformat_minor": 2
}
